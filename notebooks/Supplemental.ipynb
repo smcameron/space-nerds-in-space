{
 "cells": [
  {
   "cell_type": "code",
   "execution_count": 1,
   "id": "be813f29",
   "metadata": {},
   "outputs": [
    {
     "name": "stdout",
     "output_type": "stream",
     "text": [
      "2024-01-08 00:24:31+00:00\r\n"
     ]
    }
   ],
   "source": [
    "!date --utc --rfc-3339=seconds"
   ]
  },
  {
   "cell_type": "markdown",
   "id": "096e02c0",
   "metadata": {},
   "source": [
    "# flight test\n",
    "\n",
    "> ...teach them to yearn for the vast and endless sea\n",
    "\n",
    "(paraphrased from [Antoine de Saint Exupery](https://en.wikiquote.org/wiki/Antoine_de_Saint_Exup%C3%A9ry))\n",
    "\n",
    "I've been playing a fair amount of Space Nerds in Space lately and have some ideas I'd like to (hopefully, eventually) explore\n",
    "\n",
    "\n",
    "## wish list (feature ideas)\n",
    "\n",
    "- Captain's log; capture a record of events, periodically record the location and stardate; narrative for what happened on this adventure, allow user input/edit (maybe externally at first).\n",
    "\n",
    "\n",
    "- Savepoint, save progress; sometimes after I get blown to smithereens, or crew asphixiated; would be nice to turn back the clock and start from last \"savepoint\" or some such (easily explained phenomena of time-travel, der)\n",
    "\n",
    "\n",
    "- my mining bot got lost or destroyed, buy a new one at starbase?\n",
    "\n",
    "\n",
    "- allow \"upgrades for ship\" (start small, incremental improvements, cummulative)\n",
    "  - for warp, impulse, shields; have \"Wally\" (manual/automatic) install into available \"slot\" on appropriate \"work station\" in engineering.\n",
    "  - for weapons, lemme add another turret on the bottom of the ship; just invert the existing weapons station and maybe instead of two phaser blaster and photon torpedo; just one large photon cannon (KRAKABOOM KRAKABOOM)\n",
    "\n",
    "\n",
    "## bugs (unexpected behavior)\n",
    "\n",
    "## missions\n",
    "\n",
    "## etc\n",
    "\n",
    "- [flight test - 2024-01-07](https://youtu.be/-kKPO5j8Z1g?t=110)\n",
    "\n",
    "## to do\n",
    "\n",
    "- [ ] edit video, set markers and capture additional features/bugs"
   ]
  },
  {
   "cell_type": "code",
   "execution_count": null,
   "id": "bc5b92d1",
   "metadata": {},
   "outputs": [],
   "source": []
  }
 ],
 "metadata": {
  "kernelspec": {
   "display_name": "Python 3 (ipykernel)",
   "language": "python",
   "name": "python3"
  },
  "language_info": {
   "codemirror_mode": {
    "name": "ipython",
    "version": 3
   },
   "file_extension": ".py",
   "mimetype": "text/x-python",
   "name": "python",
   "nbconvert_exporter": "python",
   "pygments_lexer": "ipython3",
   "version": "3.7.3"
  }
 },
 "nbformat": 4,
 "nbformat_minor": 5
}
