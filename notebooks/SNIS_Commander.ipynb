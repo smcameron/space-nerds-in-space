{
 "cells": [
  {
   "cell_type": "markdown",
   "id": "66cd0f8a",
   "metadata": {},
   "source": [
    "# SNIS Commander\n",
    "\n",
    "send commands to the ship, the game,\n",
    "\n",
    "and voice messages for the crew"
   ]
  },
  {
   "cell_type": "code",
   "execution_count": null,
   "id": "5c27d6de",
   "metadata": {
    "scrolled": true
   },
   "outputs": [],
   "source": [
    "from ipywidgets import widgets\n",
    "import os\n",
    "import random\n",
    "\n",
    "lbl1=widgets.Label(\"commmand: (tell the ship computer what to do)\")\n",
    "display(lbl1)\n",
    "txt1=widgets.Text()\n",
    "display(txt1)\n",
    "\n",
    "lbl2=widgets.Label(\"control: (set variables, pause game, etc.)\")\n",
    "display(lbl2)\n",
    "txt2=widgets.Text()\n",
    "display(txt2)\n",
    "\n",
    "lbl3=widgets.Label(\"communicate: (text to speech)\")\n",
    "display(lbl3)\n",
    "txt3=widgets.Text()\n",
    "display(txt3)\n",
    "\n",
    "btn1=widgets.Button(description=\"Make it so.\")\n",
    "display(btn1)\n",
    "\n",
    "lbl4=widgets.Label()\n",
    "display(lbl4)\n",
    "\n",
    "def make_it_so(b):\n",
    "    response=['aye aye, captain', 'yes sir', 'right away sir']\n",
    "\n",
    "    if txt1.value.strip():\n",
    "        os.system(\"echo \\\"{}\\\" >> /tmp/snis-natural-language-fifo\".format(txt1.value.strip()))\n",
    "        \n",
    "    if txt2.value.strip():\n",
    "        os.system(\"echo \\\"{}\\\" >> /tmp/snis-demon-fifo\".format(txt2.value.strip()))\n",
    "        \n",
    "    if txt3.value.strip():\n",
    "        os.system(\"../bin/snis_text_to_speech.sh \\\"{}\\\"\".format(txt3.value.strip()))\n",
    "\n",
    "    lbl4.value=random.choice(response)\n",
    "    \n",
    "btn1.on_click(make_it_so)"
   ]
  }
 ],
 "metadata": {
  "kernelspec": {
   "display_name": "Python 3 (ipykernel)",
   "language": "python",
   "name": "python3"
  },
  "language_info": {
   "codemirror_mode": {
    "name": "ipython",
    "version": 3
   },
   "file_extension": ".py",
   "mimetype": "text/x-python",
   "name": "python",
   "nbconvert_exporter": "python",
   "pygments_lexer": "ipython3",
   "version": "3.7.3"
  }
 },
 "nbformat": 4,
 "nbformat_minor": 5
}
